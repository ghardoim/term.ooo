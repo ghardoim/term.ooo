{
 "cells": [
  {
   "cell_type": "code",
   "execution_count": null,
   "metadata": {},
   "outputs": [],
   "source": [
    "from selenium.webdriver.common.by import By\n",
    "from find.api import APIFinder\n",
    "from _nytimes import Puzzle"
   ]
  },
  {
   "cell_type": "code",
   "execution_count": null,
   "metadata": {},
   "outputs": [],
   "source": [
    "browser = Puzzle(\"games/strands\")\n",
    "finder = APIFinder(lang=\"en-us\")"
   ]
  },
  {
   "cell_type": "code",
   "execution_count": null,
   "metadata": {},
   "outputs": [],
   "source": [
    "letters = [ l.text for l in browser.find_elements(By.XPATH, \"//form//button[contains(@id, 'button-')]\") ]\n",
    "letters = [ letters[l : l + 6] for l in range(0, len(letters), 6) ]"
   ]
  },
  {
   "cell_type": "code",
   "execution_count": null,
   "metadata": {},
   "outputs": [],
   "source": [
    "browser.end()"
   ]
  },
  {
   "cell_type": "code",
   "execution_count": null,
   "metadata": {},
   "outputs": [],
   "source": [
    "def get_neighbors(currentR:int, currentC:int, totalR:int, totalC:int) -> list:\n",
    "\n",
    "    return [ (newR, newC) for nextR, nextC in [(-1, -1), (-1, 0), (-1, 1), ( 0, -1), ( 0, 1), ( 1, -1), ( 1, 0), ( 1, 1)]\n",
    "        if 0 <= (newR := currentR + nextR) < totalR and 0 <= (newC := currentC + nextC) < totalC ]\n",
    "\n",
    "def deep_first_search(size:int, matrix:list[list[str]], row:int, column:int, path:list, visited:dict, found) -> str:\n",
    "    if len(path) == size:\n",
    "        found.add(\"\".join(path))\n",
    "        return\n",
    "\n",
    "    for neighborR, neighborC in get_neighbors(row, column, len(matrix), len(matrix[0])):\n",
    "        if (neighborR, neighborC) not in visited:\n",
    "\n",
    "            visited.add((neighborR, neighborC))\n",
    "            deep_first_search(size, matrix, neighborR, neighborC, path + [matrix[neighborR][neighborC]], visited, found)\n",
    "            visited.remove((neighborR, neighborC))\n",
    "\n",
    "def find_sequences(matrix:list[list[str]], size:int) -> set:\n",
    "    [ deep_first_search(size, matrix, r, c, [matrix[r][c]], {(r, c)}, s:=set()) for c in range(len(matrix[0])) for r in range(len(matrix)) ]\n",
    "\n",
    "    return s"
   ]
  },
  {
   "cell_type": "code",
   "execution_count": null,
   "metadata": {},
   "outputs": [],
   "source": [
    "for size in [4, 5, 6, 7, 8]:\n",
    "    finder.kwargs.WORD_LENGTH = size\n",
    "\n",
    "    for sequence in find_sequences(letters, size):\n",
    "        finder.kwargs.SEQUENCE = sequence.lower()\n",
    "\n",
    "        if words := finder.filter():\n",
    "            print(sequence, words)"
   ]
  }
 ],
 "metadata": {
  "kernelspec": {
   "display_name": "Python 3",
   "language": "python",
   "name": "python3"
  },
  "language_info": {
   "codemirror_mode": {
    "name": "ipython",
    "version": 3
   },
   "file_extension": ".py",
   "mimetype": "text/x-python",
   "name": "python",
   "nbconvert_exporter": "python",
   "pygments_lexer": "ipython3",
   "version": "3.13.2"
  }
 },
 "nbformat": 4,
 "nbformat_minor": 2
}

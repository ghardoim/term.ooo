{
 "cells": [
  {
   "cell_type": "code",
   "execution_count": null,
   "metadata": {},
   "outputs": [],
   "source": [
    "from selenium.webdriver.common.keys import Keys\n",
    "from selenium.webdriver.common.by import By\n",
    "from itertools import combinations\n",
    "from find.api import APIFinder\n",
    "from _nytimes import Puzzle\n",
    "from time import sleep"
   ]
  },
  {
   "cell_type": "code",
   "execution_count": null,
   "metadata": {},
   "outputs": [],
   "source": [
    "browser = Puzzle(\"puzzles/spelling-bee\")\n",
    "search = APIFinder(lang=\"en-us\")"
   ]
  },
  {
   "cell_type": "code",
   "execution_count": null,
   "metadata": {},
   "outputs": [],
   "source": [
    "cells = [ cell.text for cell in browser.find_elements(By.CLASS_NAME, \"hive-cell\") ]"
   ]
  },
  {
   "cell_type": "code",
   "execution_count": null,
   "metadata": {},
   "outputs": [],
   "source": [
    "all_guesses = []\n",
    "\n",
    "for size in [3, 4, 5, 6]:\n",
    "    for letters in combinations(cells[1:], size):\n",
    "\n",
    "        search.kwargs.HAS, search.kwargs.WORD_LENGTH = cells[0] + \"\".join(letters), size + 1\n",
    "        if (words := search.filter()): all_guesses += words"
   ]
  },
  {
   "cell_type": "code",
   "execution_count": null,
   "metadata": {},
   "outputs": [],
   "source": [
    "for guess in all_guesses[:10]:\n",
    "    _input = browser.find_element(By.CLASS_NAME, \"sb-hive-input\")\n",
    "\n",
    "    _input.send_keys(guess)\n",
    "    _input.send_keys(Keys.ENTER)\n",
    "\n",
    "    while _input.text or browser.find_element(By.CLASS_NAME, \"sb-message-box\").is_displayed(): sleep(1)"
   ]
  },
  {
   "cell_type": "code",
   "execution_count": null,
   "metadata": {},
   "outputs": [],
   "source": [
    "browser.end()"
   ]
  }
 ],
 "metadata": {
  "kernelspec": {
   "display_name": "Python 3",
   "language": "python",
   "name": "python3"
  },
  "language_info": {
   "codemirror_mode": {
    "name": "ipython",
    "version": 3
   },
   "file_extension": ".py",
   "mimetype": "text/x-python",
   "name": "python",
   "nbconvert_exporter": "python",
   "pygments_lexer": "ipython3",
   "version": "3.13.2"
  }
 },
 "nbformat": 4,
 "nbformat_minor": 2
}

{
 "cells": [
  {
   "cell_type": "code",
   "execution_count": null,
   "metadata": {},
   "outputs": [],
   "source": [
    "from selenium.webdriver.common.by import By\n",
    "from _nytimes import Puzzle\n",
    "\n",
    "from langchain.output_parsers import PydanticOutputParser\n",
    "from langchain_google_genai import GoogleGenerativeAI\n",
    "from langchain.prompts import PromptTemplate\n",
    "from pydantic import BaseModel, Field\n",
    "from typing import List\n",
    "\n",
    "API_KEY=\"\""
   ]
  },
  {
   "cell_type": "code",
   "execution_count": null,
   "metadata": {},
   "outputs": [],
   "source": [
    "browser = Puzzle(\"games/connections\")\n",
    "words = [ card.text for card in browser.find_elements(By.XPATH, \"//label[contains(@for, 'inner-card')]\") ]"
   ]
  },
  {
   "cell_type": "code",
   "execution_count": null,
   "metadata": {},
   "outputs": [],
   "source": [
    "class Group(BaseModel):\n",
    "    words:List[str] = Field(..., description=\"Group of four words belonging to the same category.\", max_length=4)\n",
    "    description:str = Field(..., description=\"Category's name.\")\n",
    "\n",
    "class Groups(BaseModel):\n",
    "    guess:List[Group] = Field(..., description=\"Your guesses.\")\n",
    "\n",
    "class Player:\n",
    "    def __init__(self):\n",
    "        self.llm = GoogleGenerativeAI(model=\"gemini-2.0-flash\", api_key=API_KEY, temperature=0)\n",
    "\n",
    "        self.parser = PydanticOutputParser(pydantic_object=Groups)\n",
    "        self.fmt = {\"partial_variables\":{\"FORMAT\":self.parser.get_format_instructions()}}\n",
    "\n",
    "    def guess(self, words:list[str]) -> str:\n",
    "        prompt = PromptTemplate(template=\"\"\"\n",
    "            You are playing the New York Times' game called 'connections'.\n",
    "            Your goal is group the following words into groups of four where they must belong to the same category.\n",
    "            {WORDS}\n",
    "            The category can be anything. From the word's pronunciation to their meanings.\n",
    "            {FORMAT}\n",
    "            \"\"\", input_variables=[\"WORDS\"], **self.fmt)\n",
    "        return (prompt | self.llm | self.parser).invoke({\"WORDS\": words}).guess"
   ]
  },
  {
   "cell_type": "code",
   "execution_count": null,
   "metadata": {},
   "outputs": [],
   "source": [
    "resp = Player().guess(words)"
   ]
  },
  {
   "cell_type": "code",
   "execution_count": null,
   "metadata": {},
   "outputs": [],
   "source": [
    "browser.end()"
   ]
  }
 ],
 "metadata": {
  "kernelspec": {
   "display_name": "Python 3",
   "language": "python",
   "name": "python3"
  },
  "language_info": {
   "codemirror_mode": {
    "name": "ipython",
    "version": 3
   },
   "file_extension": ".py",
   "mimetype": "text/x-python",
   "name": "python",
   "nbconvert_exporter": "python",
   "pygments_lexer": "ipython3",
   "version": "3.13.2"
  }
 },
 "nbformat": 4,
 "nbformat_minor": 2
}
